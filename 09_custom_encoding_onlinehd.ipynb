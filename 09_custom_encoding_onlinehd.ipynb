{
 "cells": [
  {
   "cell_type": "code",
   "execution_count": 1,
   "id": "9cb1fdc3-3460-4d85-b780-4a13bce3a854",
   "metadata": {},
   "outputs": [],
   "source": [
    "from time import time\n",
    "\n",
    "import torch\n",
    "import sklearn.datasets\n",
    "import sklearn.preprocessing\n",
    "import sklearn.model_selection\n",
    "import numpy as np\n",
    "import math\n",
    "\n",
    "from OnlineHD import onlinehd"
   ]
  },
  {
   "cell_type": "code",
   "execution_count": 2,
   "id": "cd8e2f26-343c-4ff6-903b-bc77bae56fd7",
   "metadata": {},
   "outputs": [],
   "source": [
    "def load():\n",
    "    # fetches data\n",
    "    x, y = sklearn.datasets.fetch_openml('mnist_784', return_X_y=True)\n",
    "    x = x.astype(np.float)\n",
    "    y = y.astype(np.int)\n",
    "    y = np.array(y)\n",
    "\n",
    "    # split and normalize\n",
    "    x, x_test, y, y_test = sklearn.model_selection.train_test_split(x, y)\n",
    "    scaler = sklearn.preprocessing.Normalizer().fit(x)\n",
    "    x = scaler.transform(x)\n",
    "    x_test = scaler.transform(x_test)\n",
    "\n",
    "    # changes data to pytorch's tensors\n",
    "    x = torch.from_numpy(x).float()\n",
    "    y = torch.from_numpy(y).long()\n",
    "    x_test = torch.from_numpy(x_test).float()\n",
    "    y_test = torch.from_numpy(y_test).long()\n",
    "\n",
    "    return x, x_test, y, y_test"
   ]
  },
  {
   "cell_type": "code",
   "execution_count": 3,
   "id": "2b1149ec-025a-4c1a-b459-820e3c8457d5",
   "metadata": {},
   "outputs": [
    {
     "name": "stdout",
     "output_type": "stream",
     "text": [
      "Loading...\n"
     ]
    }
   ],
   "source": [
    "# simple OnlineHD training\n",
    "\n",
    "print('Loading...')\n",
    "x, x_test, y, y_test = load()\n",
    "classes = y.unique().size(0)\n",
    "features = x.size(1)"
   ]
  },
  {
   "cell_type": "code",
   "execution_count": 4,
   "id": "109012e4-cef2-4ce0-89a4-c1c51c4af0dc",
   "metadata": {},
   "outputs": [
    {
     "name": "stdout",
     "output_type": "stream",
     "text": [
      "Training...\n"
     ]
    }
   ],
   "source": [
    "model = onlinehd.OnlineHD(classes, features, dim=10000)\n",
    "\n",
    "if torch.cuda.is_available():\n",
    "    x = x.cuda()\n",
    "    y = y.cuda()\n",
    "    x_test = x_test.cuda()\n",
    "    y_test = y_test.cuda()\n",
    "    model = model.to('cuda')\n",
    "    print('Using GPU!')\n",
    "\n",
    "print('Training...')\n",
    "t = time()\n",
    "model = model.fit(x, y, bootstrap=1.0, lr=0.035, epochs=200)\n",
    "t = time() - t"
   ]
  },
  {
   "cell_type": "markdown",
   "id": "b682db40-f026-4b2c-90e0-d1255911bab0",
   "metadata": {},
   "source": [
    "# just encoding with out sin, cos\n",
    "\n",
    "- torch.matmul(x[i:i+bsize], self.basis.T, out=self.temp)\n",
    "- torch.add(self.temp, self.base, out=self.h[i:i+bsize])"
   ]
  },
  {
   "cell_type": "code",
   "execution_count": 5,
   "id": "3ed4cc64-1dbc-4766-86b9-334c7b036ea5",
   "metadata": {},
   "outputs": [
    {
     "name": "stdout",
     "output_type": "stream",
     "text": [
      "Validating...\n",
      "acc = 0.839924\n",
      "acc_test = 0.838571\n",
      "t = 23.339410\n"
     ]
    }
   ],
   "source": [
    "print('Validating...')\n",
    "yhat = model(x)\n",
    "yhat_test = model(x_test)\n",
    "acc = (y == yhat).float().mean()\n",
    "acc_test = (y_test == yhat_test).float().mean()\n",
    "print(f'{acc = :6f}')\n",
    "print(f'{acc_test = :6f}')\n",
    "print(f'{t = :6f}')"
   ]
  },
  {
   "cell_type": "markdown",
   "id": "fbfc0e65-dc0d-41bf-bb50-52e864417a27",
   "metadata": {},
   "source": [
    "# encoding with sin\n",
    "\n",
    "- torch.matmul(x[i:i+bsize], self.basis.T, out=self.temp)\n",
    "- torch.add(self.temp, self.base, out=self.h[i:i+bsize])\n",
    "- self.h[i:i+bsize].sin_()"
   ]
  },
  {
   "cell_type": "code",
   "execution_count": 5,
   "id": "9850980c-23f9-40b5-86f8-f4d66c1c75a9",
   "metadata": {},
   "outputs": [
    {
     "name": "stdout",
     "output_type": "stream",
     "text": [
      "Validating...\n",
      "acc = 0.908610\n",
      "acc_test = 0.905200\n",
      "t = 21.149395\n"
     ]
    }
   ],
   "source": [
    "print('Validating...')\n",
    "yhat = model(x)\n",
    "yhat_test = model(x_test)\n",
    "acc = (y == yhat).float().mean()\n",
    "acc_test = (y_test == yhat_test).float().mean()\n",
    "print(f'{acc = :6f}')\n",
    "print(f'{acc_test = :6f}')\n",
    "print(f'{t = :6f}')"
   ]
  },
  {
   "cell_type": "markdown",
   "id": "9fffa446-8d49-467b-b65e-1f39cac7f132",
   "metadata": {},
   "source": [
    "## 100 epochs"
   ]
  },
  {
   "cell_type": "code",
   "execution_count": 7,
   "id": "c3d25b0c-ef35-40dc-bee6-0218d78fecfc",
   "metadata": {},
   "outputs": [
    {
     "name": "stdout",
     "output_type": "stream",
     "text": [
      "Validating...\n",
      "acc = 0.957505\n",
      "acc_test = 0.944057\n",
      "t = 68.286493\n"
     ]
    }
   ],
   "source": [
    "print('Validating...')\n",
    "yhat = model(x)\n",
    "yhat_test = model(x_test)\n",
    "acc = (y == yhat).float().mean()\n",
    "acc_test = (y_test == yhat_test).float().mean()\n",
    "print(f'{acc = :6f}')\n",
    "print(f'{acc_test = :6f}')\n",
    "print(f'{t = :6f}')"
   ]
  },
  {
   "cell_type": "markdown",
   "id": "23529985-e00b-4e52-a8cb-e97970b7f1e6",
   "metadata": {},
   "source": [
    "## 150 epochs"
   ]
  },
  {
   "cell_type": "code",
   "execution_count": 10,
   "id": "9093a452-fc10-4d3f-a89f-c9e248c7360a",
   "metadata": {},
   "outputs": [
    {
     "name": "stdout",
     "output_type": "stream",
     "text": [
      "Validating...\n",
      "acc = 0.970914\n",
      "acc_test = 0.951943\n",
      "t = 97.238024\n"
     ]
    }
   ],
   "source": [
    "print('Validating...')\n",
    "yhat = model(x)\n",
    "yhat_test = model(x_test)\n",
    "acc = (y == yhat).float().mean()\n",
    "acc_test = (y_test == yhat_test).float().mean()\n",
    "print(f'{acc = :6f}')\n",
    "print(f'{acc_test = :6f}')\n",
    "print(f'{t = :6f}')"
   ]
  },
  {
   "cell_type": "markdown",
   "id": "499f90c1-51e7-40bf-ad04-1a729fb37f1e",
   "metadata": {},
   "source": [
    "# encoding with cos\n",
    "\n",
    "- torch.matmul(x[i:i+bsize], self.basis.T, out=self.temp)\n",
    "- torch.add(self.temp, self.base, out=self.h[i:i+bsize])\n",
    "- self.h[i:i+bsize].cos_()"
   ]
  },
  {
   "cell_type": "markdown",
   "id": "1a60a37a-0c67-4ada-8951-9f3692f2eabd",
   "metadata": {},
   "source": [
    "## epoch 50"
   ]
  },
  {
   "cell_type": "code",
   "execution_count": 5,
   "id": "3a31127e-2184-4b75-a6c9-4322ab15d066",
   "metadata": {},
   "outputs": [
    {
     "name": "stdout",
     "output_type": "stream",
     "text": [
      "Validating...\n",
      "acc = 0.910286\n",
      "acc_test = 0.905943\n",
      "t = 20.964919\n"
     ]
    }
   ],
   "source": [
    "print('Validating...')\n",
    "yhat = model(x)\n",
    "yhat_test = model(x_test)\n",
    "acc = (y == yhat).float().mean()\n",
    "acc_test = (y_test == yhat_test).float().mean()\n",
    "print(f'{acc = :6f}')\n",
    "print(f'{acc_test = :6f}')\n",
    "print(f'{t = :6f}')"
   ]
  },
  {
   "cell_type": "markdown",
   "id": "4f854968-07a2-481e-924f-3dc2fc4bb05c",
   "metadata": {},
   "source": [
    "# Custom for arcos\n",
    "\n",
    "- self.basis = torch.randn(self.dim, self.features).abs()\n",
    "- self.base = torch.empty(self.dim).uniform_(0.0, math.pi)\n",
    "- self.h = torch.empty(n, self.dim, device=x.device, dtype=x.dtype)\n",
    "- self.temp = torch.empty(bsize, self.dim, device=x.device, dtype=x.dtype)\n",
    "\n",
    "- for i in range(0, n, bsize):\n",
    "-     torch.matmul(x[i:i+bsize], self.basis.T, out=self.temp)\n",
    "-     torch.add(self.temp, self.base, out=self.h[i:i+bsize])\n",
    "-     self.h[i:i+bsize].div_(4.1) # it must be defined before traning.\n",
    "-     self.h[i:i+bsize].cos_()"
   ]
  },
  {
   "cell_type": "markdown",
   "id": "006633cf-a04a-4e18-992e-3cdc9b6e1594",
   "metadata": {},
   "source": [
    "## epoch 20"
   ]
  },
  {
   "cell_type": "code",
   "execution_count": 9,
   "id": "7d6a0e30-6927-46f8-8963-7d19f8c38d13",
   "metadata": {},
   "outputs": [
    {
     "name": "stdout",
     "output_type": "stream",
     "text": [
      "Validating...\n",
      "acc = 0.860362\n",
      "acc_test = 0.849886\n",
      "t = 34.522982\n"
     ]
    }
   ],
   "source": [
    "print('Validating...')\n",
    "yhat = model(x)\n",
    "yhat_test = model(x_test)\n",
    "acc = (y == yhat).float().mean()\n",
    "acc_test = (y_test == yhat_test).float().mean()\n",
    "print(f'{acc = :6f}')\n",
    "print(f'{acc_test = :6f}')\n",
    "print(f'{t = :6f}')"
   ]
  },
  {
   "cell_type": "markdown",
   "id": "de1cdfff-2cb2-4a73-b82a-30d8f5bbfddd",
   "metadata": {},
   "source": [
    "## epcoh 150"
   ]
  },
  {
   "cell_type": "code",
   "execution_count": 6,
   "id": "926a64a9-d829-4dde-ae5c-58f57a929c25",
   "metadata": {},
   "outputs": [
    {
     "name": "stdout",
     "output_type": "stream",
     "text": [
      "Validating...\n",
      "acc = 0.792648\n",
      "acc_test = 0.791657\n",
      "t = 153.539439\n"
     ]
    }
   ],
   "source": [
    "print('Validating...')\n",
    "yhat = model(x)\n",
    "yhat_test = model(x_test)\n",
    "acc = (y == yhat).float().mean()\n",
    "acc_test = (y_test == yhat_test).float().mean()\n",
    "print(f'{acc = :6f}')\n",
    "print(f'{acc_test = :6f}')\n",
    "print(f'{t = :6f}')"
   ]
  },
  {
   "cell_type": "markdown",
   "id": "0295c6d8-b928-4cc3-8216-2534d28680a1",
   "metadata": {},
   "source": [
    "## epoch 200"
   ]
  },
  {
   "cell_type": "code",
   "execution_count": 5,
   "id": "f5c96955-90c9-45d3-9fa6-7368f6f9d647",
   "metadata": {},
   "outputs": [
    {
     "name": "stdout",
     "output_type": "stream",
     "text": [
      "Validating...\n",
      "acc = 0.913162\n",
      "acc_test = 0.900514\n",
      "t = 145.710842\n"
     ]
    }
   ],
   "source": [
    "print('Validating...')\n",
    "yhat = model(x)\n",
    "yhat_test = model(x_test)\n",
    "acc = (y == yhat).float().mean()\n",
    "acc_test = (y_test == yhat_test).float().mean()\n",
    "print(f'{acc = :6f}')\n",
    "print(f'{acc_test = :6f}')\n",
    "print(f'{t = :6f}')"
   ]
  },
  {
   "cell_type": "markdown",
   "id": "d49f8cda-0d23-4ce0-a9c1-f2020e42132f",
   "metadata": {},
   "source": [
    "## epoch 300"
   ]
  },
  {
   "cell_type": "code",
   "execution_count": 9,
   "id": "09812c2d-f9dd-4e83-a15f-5344b117dee2",
   "metadata": {},
   "outputs": [
    {
     "name": "stdout",
     "output_type": "stream",
     "text": [
      "Validating...\n",
      "acc = 0.846800\n",
      "acc_test = 0.846114\n",
      "t = 254.502384\n"
     ]
    }
   ],
   "source": [
    "print('Validating...')\n",
    "yhat = model(x)\n",
    "yhat_test = model(x_test)\n",
    "acc = (y == yhat).float().mean()\n",
    "acc_test = (y_test == yhat_test).float().mean()\n",
    "print(f'{acc = :6f}')\n",
    "print(f'{acc_test = :6f}')\n",
    "print(f'{t = :6f}')"
   ]
  },
  {
   "cell_type": "markdown",
   "id": "aa3461b4-15c4-46fa-8003-81cb49ef270a",
   "metadata": {},
   "source": [
    "## epoch 450"
   ]
  },
  {
   "cell_type": "code",
   "execution_count": 11,
   "id": "664e9c1c-e956-42b5-9db7-43da4aa801e6",
   "metadata": {},
   "outputs": [
    {
     "name": "stdout",
     "output_type": "stream",
     "text": [
      "Validating...\n",
      "acc = 0.865981\n",
      "acc_test = 0.861029\n",
      "t = 342.440542\n"
     ]
    }
   ],
   "source": [
    "print('Validating...')\n",
    "yhat = model(x)\n",
    "yhat_test = model(x_test)\n",
    "acc = (y == yhat).float().mean()\n",
    "acc_test = (y_test == yhat_test).float().mean()\n",
    "print(f'{acc = :6f}')\n",
    "print(f'{acc_test = :6f}')\n",
    "print(f'{t = :6f}')"
   ]
  },
  {
   "cell_type": "markdown",
   "id": "e69db6ea-d206-4782-a674-5762e9b501aa",
   "metadata": {},
   "source": [
    "## epoch 600"
   ]
  },
  {
   "cell_type": "code",
   "execution_count": 11,
   "id": "6cefbfce-5477-4a06-90b3-03d71e5b9e43",
   "metadata": {},
   "outputs": [
    {
     "name": "stdout",
     "output_type": "stream",
     "text": [
      "Validating...\n",
      "acc = 0.924590\n",
      "acc_test = 0.907886\n",
      "t = 384.815178\n"
     ]
    }
   ],
   "source": [
    "print('Validating...')\n",
    "yhat = model(x)\n",
    "yhat_test = model(x_test)\n",
    "acc = (y == yhat).float().mean()\n",
    "acc_test = (y_test == yhat_test).float().mean()\n",
    "print(f'{acc = :6f}')\n",
    "print(f'{acc_test = :6f}')\n",
    "print(f'{t = :6f}')"
   ]
  },
  {
   "cell_type": "markdown",
   "id": "dc94c437-ab98-48d9-91b2-912e7c2ac137",
   "metadata": {},
   "source": [
    "## epoch 1000"
   ]
  },
  {
   "cell_type": "code",
   "execution_count": 5,
   "id": "32a953dc-aa75-4e79-89b8-849769eb92e1",
   "metadata": {},
   "outputs": [
    {
     "name": "stdout",
     "output_type": "stream",
     "text": [
      "Validating...\n",
      "acc = 0.896152\n",
      "acc_test = 0.885771\n",
      "t = 3410.355678\n"
     ]
    }
   ],
   "source": [
    "print('Validating...')\n",
    "yhat = model(x)\n",
    "yhat_test = model(x_test)\n",
    "acc = (y == yhat).float().mean()\n",
    "acc_test = (y_test == yhat_test).float().mean()\n",
    "print(f'{acc = :6f}')\n",
    "print(f'{acc_test = :6f}')\n",
    "print(f'{t = :6f}')"
   ]
  },
  {
   "cell_type": "markdown",
   "id": "fd7d0d01-084d-47eb-94c4-6b3967ac7650",
   "metadata": {},
   "source": [
    "# encoding with sin, sin\n",
    "\n",
    "- torch.matmul(x[i:i+bsize], self.basis.T, out=self.temp)\n",
    "- torch.add(self.temp, self.base, out=self.h[i:i+bsize])\n",
    "- self.h[i:i+bsize].sin_().mul(self.basis.T.sin())"
   ]
  },
  {
   "cell_type": "code",
   "execution_count": 7,
   "id": "4060c5ea-233f-4a75-8c6d-9540e5b62533",
   "metadata": {},
   "outputs": [
    {
     "name": "stdout",
     "output_type": "stream",
     "text": [
      "Validating...\n",
      "acc = 0.908476\n",
      "acc_test = 0.906857\n",
      "t = 21.425649\n"
     ]
    }
   ],
   "source": [
    "print('Validating...')\n",
    "yhat = model(x)\n",
    "yhat_test = model(x_test)\n",
    "acc = (y == yhat).float().mean()\n",
    "acc_test = (y_test == yhat_test).float().mean()\n",
    "print(f'{acc = :6f}')\n",
    "print(f'{acc_test = :6f}')\n",
    "print(f'{t = :6f}')"
   ]
  },
  {
   "cell_type": "markdown",
   "id": "29f110bf-a86c-46a7-8897-e534cea488a0",
   "metadata": {},
   "source": [
    "# basis = [1 or -1]\n",
    "\n",
    "- torch.matmul(x[i:i+bsize], self.basis.T, out=self.h)\n",
    "- torch.add(self.temp, self.base, out=self.h[i:i+bsize])\n",
    "- self.h[i:i+bsize].sin_()"
   ]
  },
  {
   "cell_type": "code",
   "execution_count": 5,
   "id": "311bb096-1bea-4a04-9ae5-f72f360b3604",
   "metadata": {},
   "outputs": [
    {
     "name": "stdout",
     "output_type": "stream",
     "text": [
      "Validating...\n",
      "acc = 0.469829\n",
      "acc_test = 0.100971\n",
      "t = 30.199594\n"
     ]
    }
   ],
   "source": [
    "print('Validating...')\n",
    "yhat = model(x)\n",
    "yhat_test = model(x_test)\n",
    "acc = (y == yhat).float().mean()\n",
    "acc_test = (y_test == yhat_test).float().mean()\n",
    "print(f'{acc = :6f}')\n",
    "print(f'{acc_test = :6f}')\n",
    "print(f'{t = :6f}')"
   ]
  },
  {
   "cell_type": "markdown",
   "id": "3df07057-f2e1-4f54-9814-b9772ea7eaff",
   "metadata": {},
   "source": [
    "# OnlineHD Decoding"
   ]
  },
  {
   "cell_type": "code",
   "execution_count": 5,
   "id": "431d5ee7-133d-4583-b9ca-e43a4fec4311",
   "metadata": {},
   "outputs": [
    {
     "data": {
      "text/plain": [
       "<matplotlib.image.AxesImage at 0x7f85f1107dc0>"
      ]
     },
     "execution_count": 5,
     "metadata": {},
     "output_type": "execute_result"
    },
    {
     "data": {
      "image/png": "[encoded data removed]",
      "text/plain": [
       "<Figure size 432x288 with 1 Axes>"
      ]
     },
     "metadata": {
      "needs_background": "light"
     },
     "output_type": "display_data"
    }
   ],
   "source": [
    "import matplotlib.pyplot as plt\n",
    "\n",
    "plt.imshow(x[0].reshape(28, 28))"
   ]
  },
  {
   "cell_type": "code",
   "execution_count": 6,
   "id": "0ba56d21-0e88-450a-b65d-8ccf68b208f8",
   "metadata": {},
   "outputs": [
    {
     "data": {
      "text/plain": [
       "(tensor([[ 0.0000,  0.0000,  0.0000,  ...,  0.0000,  0.0000,  0.0000],\n",
       "         [ 0.2324,  0.0728,  0.0153,  ..., -0.0460, -0.1298, -0.0590],\n",
       "         [ 0.4327,  0.3144,  0.2409,  ...,  0.1491,  0.2705,  0.0642],\n",
       "         ...,\n",
       "         [-0.2961, -0.4015, -0.5289,  ..., -0.6887, -0.6807, -0.5911],\n",
       "         [-0.1025, -0.0728, -0.3217,  ..., -0.4935, -0.4110, -0.3597],\n",
       "         [ 0.2106,  0.0630,  0.0731,  ..., -0.0150, -0.0043, -0.1954]]),\n",
       " torch.Size([52501, 10000]))"
      ]
     },
     "execution_count": 6,
     "metadata": {},
     "output_type": "execute_result"
    }
   ],
   "source": [
    "tmp = model.encoder.h\n",
    "tmp, tmp.shape"
   ]
  },
  {
   "cell_type": "code",
   "execution_count": 7,
   "id": "56a2d231-f046-40a5-b351-541a01f3249e",
   "metadata": {},
   "outputs": [],
   "source": [
    "pred_x = model.encoder.decode(tmp[:100])"
   ]
  },
  {
   "cell_type": "code",
   "execution_count": 8,
   "id": "4708fc90-f180-418d-8f94-e741a2cd269c",
   "metadata": {},
   "outputs": [
    {
     "data": {
      "text/plain": [
       "<matplotlib.image.AxesImage at 0x7f85eff22af0>"
      ]
     },
     "execution_count": 8,
     "metadata": {},
     "output_type": "execute_result"
    },
    {
     "data": {
      "image/png": "[encoded data removed]",
      "text/plain": [
       "<Figure size 432x288 with 1 Axes>"
      ]
     },
     "metadata": {
      "needs_background": "light"
     },
     "output_type": "display_data"
    }
   ],
   "source": [
    "plt.imshow(x[0].reshape(28, 28))"
   ]
  },
  {
   "cell_type": "code",
   "execution_count": 9,
   "id": "8d016ad5-4fc8-4980-b3dc-b691809a1a5d",
   "metadata": {},
   "outputs": [
    {
     "data": {
      "text/plain": [
       "<matplotlib.image.AxesImage at 0x7f85eff9b7f0>"
      ]
     },
     "execution_count": 9,
     "metadata": {},
     "output_type": "execute_result"
    },
    {
     "data": {
      "image/png": "[encoded data removed]",
      "text/plain": [
       "<Figure size 432x288 with 1 Axes>"
      ]
     },
     "metadata": {
      "needs_background": "light"
     },
     "output_type": "display_data"
    }
   ],
   "source": [
    "plt.imshow(pred_x[1].reshape(28, 28))"
   ]
  },
  {
   "cell_type": "markdown",
   "id": "9ab9425e-52fe-469b-a669-4dec8af50b06",
   "metadata": {},
   "source": [
    "# model save"
   ]
  },
  {
   "cell_type": "code",
   "execution_count": 10,
   "id": "5868f446-6a95-430c-9915-a024264b4cd0",
   "metadata": {},
   "outputs": [],
   "source": [
    "import pickle\n",
    "\n",
    "with open(\"model.pickle\",\"wb\") as fw:\n",
    "    pickle.dump(model, fw)\n",
    "\n",
    "with open(\"model.pickle\",\"rb\") as fr:\n",
    "    model2 = pickle.load(fr)"
   ]
  },
  {
   "cell_type": "code",
   "execution_count": null,
   "id": "33294143-841a-43da-9fdd-52f991294054",
   "metadata": {},
   "outputs": [],
   "source": []
  },
  {
   "cell_type": "code",
   "execution_count": null,
   "id": "a63aedba-71e4-418e-9eb9-c913c95248c0",
   "metadata": {},
   "outputs": [],
   "source": []
  },
  {
   "cell_type": "code",
   "execution_count": null,
   "id": "dfe14c7a-3272-4257-a84d-4504729545a4",
   "metadata": {},
   "outputs": [],
   "source": []
  },
  {
   "cell_type": "code",
   "execution_count": null,
   "id": "c6941758-e98c-4dc8-8cc8-0e6f92413172",
   "metadata": {},
   "outputs": [],
   "source": []
  },
  {
   "cell_type": "code",
   "execution_count": null,
   "id": "e1a94e71-4153-48a7-b6d1-7ac945a50829",
   "metadata": {},
   "outputs": [],
   "source": []
  },
  {
   "cell_type": "code",
   "execution_count": null,
   "id": "6bbc1ba1-ce29-4be9-aa86-aefc6c8305ab",
   "metadata": {},
   "outputs": [],
   "source": []
  },
  {
   "cell_type": "code",
   "execution_count": null,
   "id": "c4d162ba-3941-490c-931c-d416cd8b2906",
   "metadata": {},
   "outputs": [],
   "source": []
  },
  {
   "cell_type": "code",
   "execution_count": 154,
   "id": "53344aff-59d7-453b-8cb7-e18ea68d1a5e",
   "metadata": {},
   "outputs": [
    {
     "data": {
      "text/plain": [
       "(torch.Size([10000]), torch.Size([10000, 784]), torch.Size([10000]))"
      ]
     },
     "execution_count": 154,
     "metadata": {},
     "output_type": "execute_result"
    }
   ],
   "source": [
    "dim = 10000\n",
    "features = 784\n",
    "\n",
    "temp = torch.empty(dim)\n",
    "basis = torch.randn(dim, features).abs()\n",
    "base = torch.empty(dim).uniform_(0.0, math.pi)\n",
    "\n",
    "temp.shape, basis.shape, base.shape"
   ]
  },
  {
   "cell_type": "code",
   "execution_count": 155,
   "id": "3ec7b982-6b7a-4515-b0c0-7e7774d6753e",
   "metadata": {},
   "outputs": [
    {
     "data": {
      "text/plain": [
       "tensor([8.4819, 8.1416, 8.3155,  ..., 9.0979, 7.9487, 8.6541])"
      ]
     },
     "execution_count": 155,
     "metadata": {},
     "output_type": "execute_result"
    }
   ],
   "source": [
    "h = torch.empty(10000)\n",
    "\n",
    "torch.matmul(x[0], basis.T, out=temp)"
   ]
  },
  {
   "cell_type": "code",
   "execution_count": 156,
   "id": "7b18cca1-7018-45e2-b6a3-e86287d7c730",
   "metadata": {},
   "outputs": [
    {
     "data": {
      "text/plain": [
       "tensor([8.4819, 8.1416, 8.3155,  ..., 9.0979, 7.9487, 8.6541])"
      ]
     },
     "execution_count": 156,
     "metadata": {},
     "output_type": "execute_result"
    }
   ],
   "source": [
    "temp"
   ]
  },
  {
   "cell_type": "code",
   "execution_count": 157,
   "id": "4b7c5bd9-b74b-486c-87b8-6a9a47bfed1f",
   "metadata": {},
   "outputs": [
    {
     "data": {
      "text/plain": [
       "tensor([ 8.8152,  8.6640,  9.5346,  ..., 11.0123, 10.3979, 10.2911])"
      ]
     },
     "execution_count": 157,
     "metadata": {},
     "output_type": "execute_result"
    }
   ],
   "source": [
    "torch.add(temp, base, out=h)"
   ]
  },
  {
   "cell_type": "code",
   "execution_count": 163,
   "id": "3f41cdcc-c69e-42c3-9373-952f4a0857d4",
   "metadata": {},
   "outputs": [],
   "source": [
    "h = h / 4.1"
   ]
  },
  {
   "cell_type": "code",
   "execution_count": 168,
   "id": "a786bcb2-1271-4a8f-ba1e-bcb35e041440",
   "metadata": {},
   "outputs": [
    {
     "data": {
      "text/plain": [
       "tensor([2.1501, 2.1132, 2.3255,  ..., 2.6859, 2.5361, 2.5100])"
      ]
     },
     "execution_count": 168,
     "metadata": {},
     "output_type": "execute_result"
    }
   ],
   "source": [
    "h"
   ]
  },
  {
   "cell_type": "code",
   "execution_count": 166,
   "id": "13e6a923-7a29-4093-ae13-6943de94e786",
   "metadata": {},
   "outputs": [
    {
     "data": {
      "text/plain": [
       "tensor([-0.5474, -0.5162, -0.6851,  ..., -0.8980, -0.8222, -0.8071])"
      ]
     },
     "execution_count": 166,
     "metadata": {},
     "output_type": "execute_result"
    }
   ],
   "source": [
    "h_cos = h.cos()\n",
    "h_cos"
   ]
  },
  {
   "cell_type": "markdown",
   "id": "32f69394-0129-43ea-88ae-2bf6e3d7c89a",
   "metadata": {},
   "source": [
    "# ===="
   ]
  },
  {
   "cell_type": "code",
   "execution_count": 167,
   "id": "8b42fb2a-fe95-4cc5-9d3f-c81d7735a33d",
   "metadata": {},
   "outputs": [
    {
     "data": {
      "text/plain": [
       "tensor([2.1501, 2.1132, 2.3255,  ..., 2.6859, 2.5361, 2.5100])"
      ]
     },
     "execution_count": 167,
     "metadata": {},
     "output_type": "execute_result"
    }
   ],
   "source": [
    "hv_acos = h_cos.acos()\n",
    "hv_acos"
   ]
  },
  {
   "cell_type": "code",
   "execution_count": 173,
   "id": "e4c7fbf5-e110-4825-bbb1-f0f48da0defa",
   "metadata": {},
   "outputs": [
    {
     "data": {
      "text/plain": [
       "tensor([ 8.8152,  8.6640,  9.5346,  ..., 11.0123, 10.3979, 10.2911])"
      ]
     },
     "execution_count": 173,
     "metadata": {},
     "output_type": "execute_result"
    }
   ],
   "source": [
    "hv_acos = hv_acos * 4.1\n",
    "hv_acos"
   ]
  },
  {
   "cell_type": "code",
   "execution_count": 174,
   "id": "230aedd6-53ff-42fc-81f9-52931c28f9c1",
   "metadata": {},
   "outputs": [
    {
     "data": {
      "text/plain": [
       "tensor([8.4819, 8.1416, 8.3155,  ..., 9.0979, 7.9487, 8.6541])"
      ]
     },
     "execution_count": 174,
     "metadata": {},
     "output_type": "execute_result"
    }
   ],
   "source": [
    "temp2 = torch.empty((10000))\n",
    "\n",
    "torch.sub(hv_acos, base, out=temp2)"
   ]
  },
  {
   "cell_type": "code",
   "execution_count": 175,
   "id": "369e3757-db63-42d1-b5b3-c842d32028c6",
   "metadata": {},
   "outputs": [],
   "source": [
    "basis_pinv = torch.linalg.pinv(basis.T)"
   ]
  },
  {
   "cell_type": "code",
   "execution_count": 177,
   "id": "ac154f33-747a-40cf-a991-af63a33032ad",
   "metadata": {},
   "outputs": [
    {
     "data": {
      "text/plain": [
       "(torch.Size([10000]), torch.Size([10000, 784]))"
      ]
     },
     "execution_count": 177,
     "metadata": {},
     "output_type": "execute_result"
    }
   ],
   "source": [
    "temp2.shape, basis_pinv.shape"
   ]
  },
  {
   "cell_type": "code",
   "execution_count": null,
   "id": "a24a9bb7-6e51-49cc-859d-0a4f478507e0",
   "metadata": {},
   "outputs": [],
   "source": [
    "pred_x = torch.empty(784)\n",
    "\n",
    "torch.matmul(temp2, basis_pinv, out=pred_x)"
   ]
  },
  {
   "cell_type": "code",
   "execution_count": 179,
   "id": "878965e4-dd3f-4f56-8832-d09c13bf468f",
   "metadata": {},
   "outputs": [
    {
     "data": {
      "text/plain": [
       "tensor(4.0602e-05)"
      ]
     },
     "execution_count": 179,
     "metadata": {},
     "output_type": "execute_result"
    }
   ],
   "source": [
    "(x[0] - pred_x).sum()"
   ]
  },
  {
   "cell_type": "code",
   "execution_count": 180,
   "id": "9184a5d2-3ecb-4323-960b-98c6495cc6bc",
   "metadata": {},
   "outputs": [
    {
     "data": {
      "text/plain": [
       "<matplotlib.image.AxesImage at 0x7ff6c9077910>"
      ]
     },
     "execution_count": 180,
     "metadata": {},
     "output_type": "execute_result"
    },
    {
     "data": {
      "image/png": "[encoded data removed]",
      "text/plain": [
       "<Figure size 432x288 with 1 Axes>"
      ]
     },
     "metadata": {
      "needs_background": "light"
     },
     "output_type": "display_data"
    }
   ],
   "source": [
    "plt.imshow(pred_x.reshape(28, 28))"
   ]
  },
  {
   "cell_type": "code",
   "execution_count": 12,
   "id": "b0b12b32-9961-4e21-bf10-9ee38feaf852",
   "metadata": {},
   "outputs": [
    {
     "data": {
      "text/plain": [
       "tensor([[0.7114, 1.3170, 1.4563,  ..., 0.3586, 0.2731, 1.3327],\n",
       "        [0.7656, 0.4675, 0.7524,  ..., 2.1739, 0.4012, 0.2318],\n",
       "        [1.0540, 0.8967, 0.7146,  ..., 0.2114, 0.0147, 1.2611],\n",
       "        ...,\n",
       "        [0.0239, 1.5551, 0.2591,  ..., 0.3044, 0.0511, 0.7065],\n",
       "        [0.5777, 0.0253, 1.8322,  ..., 0.3553, 1.5805, 0.2475],\n",
       "        [1.0863, 1.7801, 0.2875,  ..., 0.5571, 0.9171, 1.7728]])"
      ]
     },
     "execution_count": 12,
     "metadata": {},
     "output_type": "execute_result"
    }
   ],
   "source": [
    "basis = torch.randn(10000, 784).abs()\n",
    "\n",
    "basis"
   ]
  },
  {
   "cell_type": "code",
   "execution_count": 13,
   "id": "17daeb91-1e5c-4020-93e3-f350d767fbde",
   "metadata": {},
   "outputs": [
    {
     "data": {
      "text/plain": [
       "tensor([0.4703, 2.5656, 0.5210,  ..., 0.7679, 2.0780, 0.0580])"
      ]
     },
     "execution_count": 13,
     "metadata": {},
     "output_type": "execute_result"
    }
   ],
   "source": [
    "base = torch.empty(10000).uniform_(0.0, math.pi)\n",
    "base"
   ]
  },
  {
   "cell_type": "code",
   "execution_count": 21,
   "id": "e2ea8ed9-2d5f-42f0-98cc-4272627f04b4",
   "metadata": {},
   "outputs": [
    {
     "data": {
      "text/plain": [
       "6.157951691030861"
      ]
     },
     "execution_count": 21,
     "metadata": {},
     "output_type": "execute_result"
    }
   ],
   "source": [
    "(torch.matmul(x, basis.T) + base).max().item()/math.pi + 0.001"
   ]
  },
  {
   "cell_type": "code",
   "execution_count": 16,
   "id": "dc97c410-30c5-4a2d-9b1e-a3ddff39905a",
   "metadata": {},
   "outputs": [
    {
     "data": {
      "text/plain": [
       "5.341844678947757"
      ]
     },
     "execution_count": 16,
     "metadata": {},
     "output_type": "execute_result"
    }
   ],
   "source": [
    "16.7819/math.pi"
   ]
  },
  {
   "cell_type": "code",
   "execution_count": 10,
   "id": "57b937c0-aaa4-4159-9790-7fc3188a936b",
   "metadata": {},
   "outputs": [
    {
     "data": {
      "text/plain": [
       "tensor([[0.4246, 0.3563, 0.0297, 0.9904, 0.2632, 0.2293, 0.5206, 0.7305, 0.5530,\n",
       "         0.1143],\n",
       "        [0.3848, 0.2216, 0.8937, 0.2115, 0.9521, 0.6114, 0.7111, 0.7009, 0.6841,\n",
       "         0.8221],\n",
       "        [0.6712, 0.4776, 0.9902, 0.0260, 0.4583, 0.9965, 0.4047, 0.8552, 0.7770,\n",
       "         0.9412],\n",
       "        [0.5624, 0.7522, 0.0833, 0.2359, 0.3893, 0.4400, 0.1440, 0.1848, 0.0917,\n",
       "         0.3806],\n",
       "        [0.7882, 0.0590, 0.5497, 0.7605, 0.3700, 0.7556, 0.8402, 0.7242, 0.0042,\n",
       "         0.4250],\n",
       "        [0.9573, 0.4832, 0.7780, 0.1770, 0.0594, 0.6736, 0.5315, 0.5354, 0.6202,\n",
       "         0.6447],\n",
       "        [0.1284, 0.3170, 0.3245, 0.5051, 0.8604, 0.6495, 0.4574, 0.9562, 0.7039,\n",
       "         0.9979],\n",
       "        [0.1974, 0.2303, 0.0979, 0.4515, 0.8187, 0.4110, 0.8674, 0.2181, 0.1816,\n",
       "         0.8026],\n",
       "        [0.1625, 0.6732, 0.4455, 0.5105, 0.3469, 0.2356, 0.6420, 0.1094, 0.0709,\n",
       "         0.6756],\n",
       "        [0.0218, 0.3869, 0.7704, 0.1387, 0.9666, 0.2166, 0.4646, 0.9431, 0.0013,\n",
       "         0.0389]])"
      ]
     },
     "execution_count": 10,
     "metadata": {},
     "output_type": "execute_result"
    }
   ],
   "source": [
    "tmp = torch.rand(10, 10)\n",
    "tmp"
   ]
  },
  {
   "cell_type": "code",
   "execution_count": 13,
   "id": "bc72b786-e8e5-470b-a9a6-e2148151635b",
   "metadata": {},
   "outputs": [],
   "source": [
    "tmp2 = torch.rand(1, 10)"
   ]
  },
  {
   "cell_type": "code",
   "execution_count": 16,
   "id": "ca9eb1d7-7bb7-4a5a-98f6-4b07e0a73315",
   "metadata": {},
   "outputs": [
    {
     "data": {
      "text/plain": [
       "torch.Size([11, 10])"
      ]
     },
     "execution_count": 16,
     "metadata": {},
     "output_type": "execute_result"
    }
   ],
   "source": [
    "torch.cat((tmp, tmp2), 0).shape"
   ]
  },
  {
   "cell_type": "code",
   "execution_count": 18,
   "id": "b57adb87-7d99-488d-a6a3-75477e61bd1c",
   "metadata": {},
   "outputs": [
    {
     "data": {
      "text/plain": [
       "tensor([[0.]])"
      ]
     },
     "execution_count": 18,
     "metadata": {},
     "output_type": "execute_result"
    }
   ],
   "source": [
    "torch.empty(1, 1)"
   ]
  },
  {
   "cell_type": "code",
   "execution_count": null,
   "id": "a0afa8f3-2d5f-4cfc-84ad-9881eca88d33",
   "metadata": {},
   "outputs": [],
   "source": []
  }
 ],
 "metadata": {
  "kernelspec": {
   "display_name": "UCI",
   "language": "python",
   "name": "uci"
  },
  "language_info": {
   "codemirror_mode": {
    "name": "ipython",
    "version": 3
   },
   "file_extension": ".py",
   "mimetype": "text/x-python",
   "name": "python",
   "nbconvert_exporter": "python",
   "pygments_lexer": "ipython3",
   "version": "3.8.5"
  }
 },
 "nbformat": 4,
 "nbformat_minor": 5
}
