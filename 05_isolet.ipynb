{
 "cells": [
  {
   "cell_type": "code",
   "execution_count": 2,
   "id": "9283f4d0-7643-4378-be09-836b9f40a9df",
   "metadata": {},
   "outputs": [],
   "source": [
    "from time import time\n",
    "\n",
    "import torch\n",
    "import sklearn.datasets\n",
    "import sklearn.preprocessing\n",
    "import sklearn.model_selection\n",
    "import numpy as np\n",
    "import pandas as pd\n",
    "import random\n",
    "\n",
    "import onlinehd"
   ]
  },
  {
   "cell_type": "code",
   "execution_count": 48,
   "id": "7c87296f-094c-4d77-9465-40689aa72ca2",
   "metadata": {},
   "outputs": [],
   "source": [
    "# loads simple mnist dataset\n",
    "def load():\n",
    "    # fetches data\n",
    "    train_dataset = pd.read_csv('data/isolet1+2+3+4.data', header=None)\n",
    "    test_dataset = pd.read_csv('data/isolet5.data', header=None)\n",
    "\n",
    "    x = train_dataset.iloc[:, :-1]\n",
    "    y = train_dataset.iloc[:, -1]\n",
    "\n",
    "    x_test = test_dataset.iloc[:, :-1]\n",
    "    y_test = test_dataset.iloc[:, -1]\n",
    "\n",
    "    print(\"train_X shape:\", x.shape, \"train_y shape:\", y.shape, \"test_X shape:\", x_test.shape, \"test_y shape:\", y_test.shape)\n",
    "\n",
    "    scaler = sklearn.preprocessing.Normalizer().fit(x)\n",
    "    x = scaler.transform(x)\n",
    "    x_test = scaler.transform(x_test)\n",
    " \n",
    "    x = torch.from_numpy(x).float()\n",
    "    y = torch.from_numpy(np.array(y)).long()\n",
    "    x_test = torch.from_numpy(x_test).float()\n",
    "    y_test = torch.from_numpy(np.array(y_test)).long()\n",
    "\n",
    "    return x, x_test, y-1, y_test-1"
   ]
  },
  {
   "cell_type": "code",
   "execution_count": 49,
   "id": "a2b01397-5bd0-41d0-8b0b-9325b55666e4",
   "metadata": {},
   "outputs": [
    {
     "name": "stdout",
     "output_type": "stream",
     "text": [
      "Loading...\n",
      "train_X shape: (6238, 617) train_y shape: (6238,) test_X shape: (1559, 617) test_y shape: (1559,)\n"
     ]
    }
   ],
   "source": [
    "# simple OnlineHD training\n",
    "\n",
    "print('Loading...')\n",
    "x, x_test, y, y_test = load()"
   ]
  },
  {
   "cell_type": "code",
   "execution_count": 50,
   "id": "54fc7766-3eb9-4372-9c8e-c8b3168791ca",
   "metadata": {},
   "outputs": [],
   "source": [
    "def train_parameter(x, y, x_test, y_test, lr, epochs, dim, bootstrap):\n",
    "    classes = y.unique().size(0)\n",
    "    features = x.size(1)\n",
    "    model = onlinehd.OnlineHD(classes, features, dim)\n",
    "\n",
    "    if torch.cuda.is_available():\n",
    "        x = x.cuda()\n",
    "        y = y.cuda()\n",
    "        x_test = x_test.cuda()\n",
    "        y_test = y_test.cuda()\n",
    "        model = model.to('cuda')\n",
    "        print('Using GPU!')\n",
    "\n",
    "    print('Training...')\n",
    "    t = time()\n",
    "    model = model.fit(x, y, bootstrap=bootstrap, lr=lr, epochs=epochs)\n",
    "    t = time() - t\n",
    "\n",
    "    print('Validating...')\n",
    "    yhat = model(x)\n",
    "    yhat_test = model(x_test)\n",
    "    acc = (y == yhat).float().mean()\n",
    "    acc_test = (y_test == yhat_test).float().mean()\n",
    "    print(f'{acc = :6f}')\n",
    "    print(f'{acc_test = :6f}')\n",
    "    print(f'{t = :6f}')\n",
    "    \n",
    "    return [lr, epochs, dim, bootstrap, acc.item(), acc_test.item(), t]"
   ]
  },
  {
   "cell_type": "code",
   "execution_count": null,
   "id": "636972e4-3166-44f0-b32f-a4473b158d1e",
   "metadata": {},
   "outputs": [],
   "source": []
  }
 ],
 "metadata": {
  "kernelspec": {
   "display_name": "UCI",
   "language": "python",
   "name": "uci"
  },
  "language_info": {
   "codemirror_mode": {
    "name": "ipython",
    "version": 3
   },
   "file_extension": ".py",
   "mimetype": "text/x-python",
   "name": "python",
   "nbconvert_exporter": "python",
   "pygments_lexer": "ipython3",
   "version": "3.8.5"
  }
 },
 "nbformat": 4,
 "nbformat_minor": 5
}
